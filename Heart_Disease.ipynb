{
  "nbformat": 4,
  "nbformat_minor": 0,
  "metadata": {
    "colab": {
      "provenance": [],
      "mount_file_id": "101X8noAA_4O8u7tWHHm6OMkkFbZYjP8_",
      "authorship_tag": "ABX9TyORCd+L68tv14CeRE9uuP43",
      "include_colab_link": true
    },
    "kernelspec": {
      "name": "python3",
      "display_name": "Python 3"
    },
    "language_info": {
      "name": "python"
    }
  },
  "cells": [
    {
      "cell_type": "markdown",
      "metadata": {
        "id": "view-in-github",
        "colab_type": "text"
      },
      "source": [
        "<a href=\"https://colab.research.google.com/github/Kamruzzaman2200/Ai/blob/main/Heart_Disease.ipynb\" target=\"_parent\"><img src=\"https://colab.research.google.com/assets/colab-badge.svg\" alt=\"Open In Colab\"/></a>"
      ]
    },
    {
      "cell_type": "code",
      "execution_count": 7,
      "metadata": {
        "id": "GTbqB7WjZAim"
      },
      "outputs": [],
      "source": [
        "\n",
        "import pandas as pd\n",
        "import numpy as np\n",
        "import matplotlib.pyplot as plt\n",
        "import seaborn as sns\n",
        "\n",
        "\n",
        "from sklearn.model_selection import train_test_split\n",
        "from sklearn.preprocessing import LabelEncoder, StandardScaler\n",
        "from sklearn.metrics import accuracy_score, classification_report, confusion_matrix\n",
        "import warnings\n",
        "warnings.filterwarnings(\"ignore\")\n"
      ]
    },
    {
      "cell_type": "code",
      "source": [
        "df = pd.read_csv('/content/drive/MyDrive/Heart disease/heart_disease.csv')"
      ],
      "metadata": {
        "id": "iVKf4XfAbUTX"
      },
      "execution_count": 11,
      "outputs": []
    },
    {
      "cell_type": "code",
      "source": [
        "df.head()"
      ],
      "metadata": {
        "colab": {
          "base_uri": "https://localhost:8080/",
          "height": 290
        },
        "id": "zt12uSOnbUXB",
        "outputId": "63c00f24-3d15-4413-80d1-5fd96462cd96"
      },
      "execution_count": 12,
      "outputs": [
        {
          "output_type": "execute_result",
          "data": {
            "text/plain": [
              "    Age  Gender  Blood Pressure  Cholesterol Level Exercise Habits Smoking  \\\n",
              "0  56.0    Male           153.0              155.0            High     Yes   \n",
              "1  69.0  Female           146.0              286.0            High      No   \n",
              "2  46.0    Male           126.0              216.0             Low      No   \n",
              "3  32.0  Female           122.0              293.0            High     Yes   \n",
              "4  60.0    Male           166.0              242.0             Low     Yes   \n",
              "\n",
              "  Family Heart Disease Diabetes        BMI High Blood Pressure  ...  \\\n",
              "0                  Yes       No  24.991591                 Yes  ...   \n",
              "1                  Yes      Yes  25.221799                  No  ...   \n",
              "2                   No       No  29.855447                  No  ...   \n",
              "3                  Yes       No  24.130477                 Yes  ...   \n",
              "4                  Yes      Yes  20.486289                 Yes  ...   \n",
              "\n",
              "  High LDL Cholesterol Alcohol Consumption Stress Level Sleep Hours  \\\n",
              "0                   No                High       Medium    7.633228   \n",
              "1                   No              Medium         High    8.744034   \n",
              "2                  Yes                 Low          Low    4.440440   \n",
              "3                  Yes                 Low         High    5.249405   \n",
              "4                   No                 Low         High    7.030971   \n",
              "\n",
              "   Sugar Consumption Triglyceride Level  Fasting Blood Sugar  CRP Level  \\\n",
              "0             Medium              342.0                  NaN  12.969246   \n",
              "1             Medium              133.0                157.0   9.355389   \n",
              "2                Low              393.0                 92.0  12.709873   \n",
              "3               High              293.0                 94.0  12.509046   \n",
              "4               High              263.0                154.0  10.381259   \n",
              "\n",
              "   Homocysteine Level  Heart Disease Status  \n",
              "0           12.387250                    No  \n",
              "1           19.298875                    No  \n",
              "2           11.230926                    No  \n",
              "3            5.961958                    No  \n",
              "4            8.153887                    No  \n",
              "\n",
              "[5 rows x 21 columns]"
            ],
            "text/html": [
              "\n",
              "  <div id=\"df-9681a432-27c2-494e-831d-ea8225519f91\" class=\"colab-df-container\">\n",
              "    <div>\n",
              "<style scoped>\n",
              "    .dataframe tbody tr th:only-of-type {\n",
              "        vertical-align: middle;\n",
              "    }\n",
              "\n",
              "    .dataframe tbody tr th {\n",
              "        vertical-align: top;\n",
              "    }\n",
              "\n",
              "    .dataframe thead th {\n",
              "        text-align: right;\n",
              "    }\n",
              "</style>\n",
              "<table border=\"1\" class=\"dataframe\">\n",
              "  <thead>\n",
              "    <tr style=\"text-align: right;\">\n",
              "      <th></th>\n",
              "      <th>Age</th>\n",
              "      <th>Gender</th>\n",
              "      <th>Blood Pressure</th>\n",
              "      <th>Cholesterol Level</th>\n",
              "      <th>Exercise Habits</th>\n",
              "      <th>Smoking</th>\n",
              "      <th>Family Heart Disease</th>\n",
              "      <th>Diabetes</th>\n",
              "      <th>BMI</th>\n",
              "      <th>High Blood Pressure</th>\n",
              "      <th>...</th>\n",
              "      <th>High LDL Cholesterol</th>\n",
              "      <th>Alcohol Consumption</th>\n",
              "      <th>Stress Level</th>\n",
              "      <th>Sleep Hours</th>\n",
              "      <th>Sugar Consumption</th>\n",
              "      <th>Triglyceride Level</th>\n",
              "      <th>Fasting Blood Sugar</th>\n",
              "      <th>CRP Level</th>\n",
              "      <th>Homocysteine Level</th>\n",
              "      <th>Heart Disease Status</th>\n",
              "    </tr>\n",
              "  </thead>\n",
              "  <tbody>\n",
              "    <tr>\n",
              "      <th>0</th>\n",
              "      <td>56.0</td>\n",
              "      <td>Male</td>\n",
              "      <td>153.0</td>\n",
              "      <td>155.0</td>\n",
              "      <td>High</td>\n",
              "      <td>Yes</td>\n",
              "      <td>Yes</td>\n",
              "      <td>No</td>\n",
              "      <td>24.991591</td>\n",
              "      <td>Yes</td>\n",
              "      <td>...</td>\n",
              "      <td>No</td>\n",
              "      <td>High</td>\n",
              "      <td>Medium</td>\n",
              "      <td>7.633228</td>\n",
              "      <td>Medium</td>\n",
              "      <td>342.0</td>\n",
              "      <td>NaN</td>\n",
              "      <td>12.969246</td>\n",
              "      <td>12.387250</td>\n",
              "      <td>No</td>\n",
              "    </tr>\n",
              "    <tr>\n",
              "      <th>1</th>\n",
              "      <td>69.0</td>\n",
              "      <td>Female</td>\n",
              "      <td>146.0</td>\n",
              "      <td>286.0</td>\n",
              "      <td>High</td>\n",
              "      <td>No</td>\n",
              "      <td>Yes</td>\n",
              "      <td>Yes</td>\n",
              "      <td>25.221799</td>\n",
              "      <td>No</td>\n",
              "      <td>...</td>\n",
              "      <td>No</td>\n",
              "      <td>Medium</td>\n",
              "      <td>High</td>\n",
              "      <td>8.744034</td>\n",
              "      <td>Medium</td>\n",
              "      <td>133.0</td>\n",
              "      <td>157.0</td>\n",
              "      <td>9.355389</td>\n",
              "      <td>19.298875</td>\n",
              "      <td>No</td>\n",
              "    </tr>\n",
              "    <tr>\n",
              "      <th>2</th>\n",
              "      <td>46.0</td>\n",
              "      <td>Male</td>\n",
              "      <td>126.0</td>\n",
              "      <td>216.0</td>\n",
              "      <td>Low</td>\n",
              "      <td>No</td>\n",
              "      <td>No</td>\n",
              "      <td>No</td>\n",
              "      <td>29.855447</td>\n",
              "      <td>No</td>\n",
              "      <td>...</td>\n",
              "      <td>Yes</td>\n",
              "      <td>Low</td>\n",
              "      <td>Low</td>\n",
              "      <td>4.440440</td>\n",
              "      <td>Low</td>\n",
              "      <td>393.0</td>\n",
              "      <td>92.0</td>\n",
              "      <td>12.709873</td>\n",
              "      <td>11.230926</td>\n",
              "      <td>No</td>\n",
              "    </tr>\n",
              "    <tr>\n",
              "      <th>3</th>\n",
              "      <td>32.0</td>\n",
              "      <td>Female</td>\n",
              "      <td>122.0</td>\n",
              "      <td>293.0</td>\n",
              "      <td>High</td>\n",
              "      <td>Yes</td>\n",
              "      <td>Yes</td>\n",
              "      <td>No</td>\n",
              "      <td>24.130477</td>\n",
              "      <td>Yes</td>\n",
              "      <td>...</td>\n",
              "      <td>Yes</td>\n",
              "      <td>Low</td>\n",
              "      <td>High</td>\n",
              "      <td>5.249405</td>\n",
              "      <td>High</td>\n",
              "      <td>293.0</td>\n",
              "      <td>94.0</td>\n",
              "      <td>12.509046</td>\n",
              "      <td>5.961958</td>\n",
              "      <td>No</td>\n",
              "    </tr>\n",
              "    <tr>\n",
              "      <th>4</th>\n",
              "      <td>60.0</td>\n",
              "      <td>Male</td>\n",
              "      <td>166.0</td>\n",
              "      <td>242.0</td>\n",
              "      <td>Low</td>\n",
              "      <td>Yes</td>\n",
              "      <td>Yes</td>\n",
              "      <td>Yes</td>\n",
              "      <td>20.486289</td>\n",
              "      <td>Yes</td>\n",
              "      <td>...</td>\n",
              "      <td>No</td>\n",
              "      <td>Low</td>\n",
              "      <td>High</td>\n",
              "      <td>7.030971</td>\n",
              "      <td>High</td>\n",
              "      <td>263.0</td>\n",
              "      <td>154.0</td>\n",
              "      <td>10.381259</td>\n",
              "      <td>8.153887</td>\n",
              "      <td>No</td>\n",
              "    </tr>\n",
              "  </tbody>\n",
              "</table>\n",
              "<p>5 rows × 21 columns</p>\n",
              "</div>\n",
              "    <div class=\"colab-df-buttons\">\n",
              "\n",
              "  <div class=\"colab-df-container\">\n",
              "    <button class=\"colab-df-convert\" onclick=\"convertToInteractive('df-9681a432-27c2-494e-831d-ea8225519f91')\"\n",
              "            title=\"Convert this dataframe to an interactive table.\"\n",
              "            style=\"display:none;\">\n",
              "\n",
              "  <svg xmlns=\"http://www.w3.org/2000/svg\" height=\"24px\" viewBox=\"0 -960 960 960\">\n",
              "    <path d=\"M120-120v-720h720v720H120Zm60-500h600v-160H180v160Zm220 220h160v-160H400v160Zm0 220h160v-160H400v160ZM180-400h160v-160H180v160Zm440 0h160v-160H620v160ZM180-180h160v-160H180v160Zm440 0h160v-160H620v160Z\"/>\n",
              "  </svg>\n",
              "    </button>\n",
              "\n",
              "  <style>\n",
              "    .colab-df-container {\n",
              "      display:flex;\n",
              "      gap: 12px;\n",
              "    }\n",
              "\n",
              "    .colab-df-convert {\n",
              "      background-color: #E8F0FE;\n",
              "      border: none;\n",
              "      border-radius: 50%;\n",
              "      cursor: pointer;\n",
              "      display: none;\n",
              "      fill: #1967D2;\n",
              "      height: 32px;\n",
              "      padding: 0 0 0 0;\n",
              "      width: 32px;\n",
              "    }\n",
              "\n",
              "    .colab-df-convert:hover {\n",
              "      background-color: #E2EBFA;\n",
              "      box-shadow: 0px 1px 2px rgba(60, 64, 67, 0.3), 0px 1px 3px 1px rgba(60, 64, 67, 0.15);\n",
              "      fill: #174EA6;\n",
              "    }\n",
              "\n",
              "    .colab-df-buttons div {\n",
              "      margin-bottom: 4px;\n",
              "    }\n",
              "\n",
              "    [theme=dark] .colab-df-convert {\n",
              "      background-color: #3B4455;\n",
              "      fill: #D2E3FC;\n",
              "    }\n",
              "\n",
              "    [theme=dark] .colab-df-convert:hover {\n",
              "      background-color: #434B5C;\n",
              "      box-shadow: 0px 1px 3px 1px rgba(0, 0, 0, 0.15);\n",
              "      filter: drop-shadow(0px 1px 2px rgba(0, 0, 0, 0.3));\n",
              "      fill: #FFFFFF;\n",
              "    }\n",
              "  </style>\n",
              "\n",
              "    <script>\n",
              "      const buttonEl =\n",
              "        document.querySelector('#df-9681a432-27c2-494e-831d-ea8225519f91 button.colab-df-convert');\n",
              "      buttonEl.style.display =\n",
              "        google.colab.kernel.accessAllowed ? 'block' : 'none';\n",
              "\n",
              "      async function convertToInteractive(key) {\n",
              "        const element = document.querySelector('#df-9681a432-27c2-494e-831d-ea8225519f91');\n",
              "        const dataTable =\n",
              "          await google.colab.kernel.invokeFunction('convertToInteractive',\n",
              "                                                    [key], {});\n",
              "        if (!dataTable) return;\n",
              "\n",
              "        const docLinkHtml = 'Like what you see? Visit the ' +\n",
              "          '<a target=\"_blank\" href=https://colab.research.google.com/notebooks/data_table.ipynb>data table notebook</a>'\n",
              "          + ' to learn more about interactive tables.';\n",
              "        element.innerHTML = '';\n",
              "        dataTable['output_type'] = 'display_data';\n",
              "        await google.colab.output.renderOutput(dataTable, element);\n",
              "        const docLink = document.createElement('div');\n",
              "        docLink.innerHTML = docLinkHtml;\n",
              "        element.appendChild(docLink);\n",
              "      }\n",
              "    </script>\n",
              "  </div>\n",
              "\n",
              "\n",
              "    <div id=\"df-3923de55-0e61-4c0d-84f9-21345407db89\">\n",
              "      <button class=\"colab-df-quickchart\" onclick=\"quickchart('df-3923de55-0e61-4c0d-84f9-21345407db89')\"\n",
              "                title=\"Suggest charts\"\n",
              "                style=\"display:none;\">\n",
              "\n",
              "<svg xmlns=\"http://www.w3.org/2000/svg\" height=\"24px\"viewBox=\"0 0 24 24\"\n",
              "     width=\"24px\">\n",
              "    <g>\n",
              "        <path d=\"M19 3H5c-1.1 0-2 .9-2 2v14c0 1.1.9 2 2 2h14c1.1 0 2-.9 2-2V5c0-1.1-.9-2-2-2zM9 17H7v-7h2v7zm4 0h-2V7h2v10zm4 0h-2v-4h2v4z\"/>\n",
              "    </g>\n",
              "</svg>\n",
              "      </button>\n",
              "\n",
              "<style>\n",
              "  .colab-df-quickchart {\n",
              "      --bg-color: #E8F0FE;\n",
              "      --fill-color: #1967D2;\n",
              "      --hover-bg-color: #E2EBFA;\n",
              "      --hover-fill-color: #174EA6;\n",
              "      --disabled-fill-color: #AAA;\n",
              "      --disabled-bg-color: #DDD;\n",
              "  }\n",
              "\n",
              "  [theme=dark] .colab-df-quickchart {\n",
              "      --bg-color: #3B4455;\n",
              "      --fill-color: #D2E3FC;\n",
              "      --hover-bg-color: #434B5C;\n",
              "      --hover-fill-color: #FFFFFF;\n",
              "      --disabled-bg-color: #3B4455;\n",
              "      --disabled-fill-color: #666;\n",
              "  }\n",
              "\n",
              "  .colab-df-quickchart {\n",
              "    background-color: var(--bg-color);\n",
              "    border: none;\n",
              "    border-radius: 50%;\n",
              "    cursor: pointer;\n",
              "    display: none;\n",
              "    fill: var(--fill-color);\n",
              "    height: 32px;\n",
              "    padding: 0;\n",
              "    width: 32px;\n",
              "  }\n",
              "\n",
              "  .colab-df-quickchart:hover {\n",
              "    background-color: var(--hover-bg-color);\n",
              "    box-shadow: 0 1px 2px rgba(60, 64, 67, 0.3), 0 1px 3px 1px rgba(60, 64, 67, 0.15);\n",
              "    fill: var(--button-hover-fill-color);\n",
              "  }\n",
              "\n",
              "  .colab-df-quickchart-complete:disabled,\n",
              "  .colab-df-quickchart-complete:disabled:hover {\n",
              "    background-color: var(--disabled-bg-color);\n",
              "    fill: var(--disabled-fill-color);\n",
              "    box-shadow: none;\n",
              "  }\n",
              "\n",
              "  .colab-df-spinner {\n",
              "    border: 2px solid var(--fill-color);\n",
              "    border-color: transparent;\n",
              "    border-bottom-color: var(--fill-color);\n",
              "    animation:\n",
              "      spin 1s steps(1) infinite;\n",
              "  }\n",
              "\n",
              "  @keyframes spin {\n",
              "    0% {\n",
              "      border-color: transparent;\n",
              "      border-bottom-color: var(--fill-color);\n",
              "      border-left-color: var(--fill-color);\n",
              "    }\n",
              "    20% {\n",
              "      border-color: transparent;\n",
              "      border-left-color: var(--fill-color);\n",
              "      border-top-color: var(--fill-color);\n",
              "    }\n",
              "    30% {\n",
              "      border-color: transparent;\n",
              "      border-left-color: var(--fill-color);\n",
              "      border-top-color: var(--fill-color);\n",
              "      border-right-color: var(--fill-color);\n",
              "    }\n",
              "    40% {\n",
              "      border-color: transparent;\n",
              "      border-right-color: var(--fill-color);\n",
              "      border-top-color: var(--fill-color);\n",
              "    }\n",
              "    60% {\n",
              "      border-color: transparent;\n",
              "      border-right-color: var(--fill-color);\n",
              "    }\n",
              "    80% {\n",
              "      border-color: transparent;\n",
              "      border-right-color: var(--fill-color);\n",
              "      border-bottom-color: var(--fill-color);\n",
              "    }\n",
              "    90% {\n",
              "      border-color: transparent;\n",
              "      border-bottom-color: var(--fill-color);\n",
              "    }\n",
              "  }\n",
              "</style>\n",
              "\n",
              "      <script>\n",
              "        async function quickchart(key) {\n",
              "          const quickchartButtonEl =\n",
              "            document.querySelector('#' + key + ' button');\n",
              "          quickchartButtonEl.disabled = true;  // To prevent multiple clicks.\n",
              "          quickchartButtonEl.classList.add('colab-df-spinner');\n",
              "          try {\n",
              "            const charts = await google.colab.kernel.invokeFunction(\n",
              "                'suggestCharts', [key], {});\n",
              "          } catch (error) {\n",
              "            console.error('Error during call to suggestCharts:', error);\n",
              "          }\n",
              "          quickchartButtonEl.classList.remove('colab-df-spinner');\n",
              "          quickchartButtonEl.classList.add('colab-df-quickchart-complete');\n",
              "        }\n",
              "        (() => {\n",
              "          let quickchartButtonEl =\n",
              "            document.querySelector('#df-3923de55-0e61-4c0d-84f9-21345407db89 button');\n",
              "          quickchartButtonEl.style.display =\n",
              "            google.colab.kernel.accessAllowed ? 'block' : 'none';\n",
              "        })();\n",
              "      </script>\n",
              "    </div>\n",
              "\n",
              "    </div>\n",
              "  </div>\n"
            ],
            "application/vnd.google.colaboratory.intrinsic+json": {
              "type": "dataframe",
              "variable_name": "df"
            }
          },
          "metadata": {},
          "execution_count": 12
        }
      ]
    },
    {
      "cell_type": "code",
      "source": [
        "df.info()"
      ],
      "metadata": {
        "colab": {
          "base_uri": "https://localhost:8080/"
        },
        "id": "lavbfx9GbUw-",
        "outputId": "db5c92a5-5e6c-4cc3-dad5-5ead3a9a2fc9"
      },
      "execution_count": 13,
      "outputs": [
        {
          "output_type": "stream",
          "name": "stdout",
          "text": [
            "<class 'pandas.core.frame.DataFrame'>\n",
            "RangeIndex: 10000 entries, 0 to 9999\n",
            "Data columns (total 21 columns):\n",
            " #   Column                Non-Null Count  Dtype  \n",
            "---  ------                --------------  -----  \n",
            " 0   Age                   9971 non-null   float64\n",
            " 1   Gender                9981 non-null   object \n",
            " 2   Blood Pressure        9981 non-null   float64\n",
            " 3   Cholesterol Level     9970 non-null   float64\n",
            " 4   Exercise Habits       9975 non-null   object \n",
            " 5   Smoking               9975 non-null   object \n",
            " 6   Family Heart Disease  9979 non-null   object \n",
            " 7   Diabetes              9970 non-null   object \n",
            " 8   BMI                   9978 non-null   float64\n",
            " 9   High Blood Pressure   9974 non-null   object \n",
            " 10  Low HDL Cholesterol   9975 non-null   object \n",
            " 11  High LDL Cholesterol  9974 non-null   object \n",
            " 12  Alcohol Consumption   7414 non-null   object \n",
            " 13  Stress Level          9978 non-null   object \n",
            " 14  Sleep Hours           9975 non-null   float64\n",
            " 15  Sugar Consumption     9970 non-null   object \n",
            " 16  Triglyceride Level    9974 non-null   float64\n",
            " 17  Fasting Blood Sugar   9978 non-null   float64\n",
            " 18  CRP Level             9974 non-null   float64\n",
            " 19  Homocysteine Level    9980 non-null   float64\n",
            " 20  Heart Disease Status  10000 non-null  object \n",
            "dtypes: float64(9), object(12)\n",
            "memory usage: 1.6+ MB\n"
          ]
        }
      ]
    },
    {
      "cell_type": "code",
      "source": [
        "df.isnull().sum()"
      ],
      "metadata": {
        "colab": {
          "base_uri": "https://localhost:8080/",
          "height": 743
        },
        "id": "qVQ0XUhCbUz3",
        "outputId": "44cab905-19ac-4831-fad1-8b2dacc5e615"
      },
      "execution_count": 14,
      "outputs": [
        {
          "output_type": "execute_result",
          "data": {
            "text/plain": [
              "Age                       29\n",
              "Gender                    19\n",
              "Blood Pressure            19\n",
              "Cholesterol Level         30\n",
              "Exercise Habits           25\n",
              "Smoking                   25\n",
              "Family Heart Disease      21\n",
              "Diabetes                  30\n",
              "BMI                       22\n",
              "High Blood Pressure       26\n",
              "Low HDL Cholesterol       25\n",
              "High LDL Cholesterol      26\n",
              "Alcohol Consumption     2586\n",
              "Stress Level              22\n",
              "Sleep Hours               25\n",
              "Sugar Consumption         30\n",
              "Triglyceride Level        26\n",
              "Fasting Blood Sugar       22\n",
              "CRP Level                 26\n",
              "Homocysteine Level        20\n",
              "Heart Disease Status       0\n",
              "dtype: int64"
            ],
            "text/html": [
              "<div>\n",
              "<style scoped>\n",
              "    .dataframe tbody tr th:only-of-type {\n",
              "        vertical-align: middle;\n",
              "    }\n",
              "\n",
              "    .dataframe tbody tr th {\n",
              "        vertical-align: top;\n",
              "    }\n",
              "\n",
              "    .dataframe thead th {\n",
              "        text-align: right;\n",
              "    }\n",
              "</style>\n",
              "<table border=\"1\" class=\"dataframe\">\n",
              "  <thead>\n",
              "    <tr style=\"text-align: right;\">\n",
              "      <th></th>\n",
              "      <th>0</th>\n",
              "    </tr>\n",
              "  </thead>\n",
              "  <tbody>\n",
              "    <tr>\n",
              "      <th>Age</th>\n",
              "      <td>29</td>\n",
              "    </tr>\n",
              "    <tr>\n",
              "      <th>Gender</th>\n",
              "      <td>19</td>\n",
              "    </tr>\n",
              "    <tr>\n",
              "      <th>Blood Pressure</th>\n",
              "      <td>19</td>\n",
              "    </tr>\n",
              "    <tr>\n",
              "      <th>Cholesterol Level</th>\n",
              "      <td>30</td>\n",
              "    </tr>\n",
              "    <tr>\n",
              "      <th>Exercise Habits</th>\n",
              "      <td>25</td>\n",
              "    </tr>\n",
              "    <tr>\n",
              "      <th>Smoking</th>\n",
              "      <td>25</td>\n",
              "    </tr>\n",
              "    <tr>\n",
              "      <th>Family Heart Disease</th>\n",
              "      <td>21</td>\n",
              "    </tr>\n",
              "    <tr>\n",
              "      <th>Diabetes</th>\n",
              "      <td>30</td>\n",
              "    </tr>\n",
              "    <tr>\n",
              "      <th>BMI</th>\n",
              "      <td>22</td>\n",
              "    </tr>\n",
              "    <tr>\n",
              "      <th>High Blood Pressure</th>\n",
              "      <td>26</td>\n",
              "    </tr>\n",
              "    <tr>\n",
              "      <th>Low HDL Cholesterol</th>\n",
              "      <td>25</td>\n",
              "    </tr>\n",
              "    <tr>\n",
              "      <th>High LDL Cholesterol</th>\n",
              "      <td>26</td>\n",
              "    </tr>\n",
              "    <tr>\n",
              "      <th>Alcohol Consumption</th>\n",
              "      <td>2586</td>\n",
              "    </tr>\n",
              "    <tr>\n",
              "      <th>Stress Level</th>\n",
              "      <td>22</td>\n",
              "    </tr>\n",
              "    <tr>\n",
              "      <th>Sleep Hours</th>\n",
              "      <td>25</td>\n",
              "    </tr>\n",
              "    <tr>\n",
              "      <th>Sugar Consumption</th>\n",
              "      <td>30</td>\n",
              "    </tr>\n",
              "    <tr>\n",
              "      <th>Triglyceride Level</th>\n",
              "      <td>26</td>\n",
              "    </tr>\n",
              "    <tr>\n",
              "      <th>Fasting Blood Sugar</th>\n",
              "      <td>22</td>\n",
              "    </tr>\n",
              "    <tr>\n",
              "      <th>CRP Level</th>\n",
              "      <td>26</td>\n",
              "    </tr>\n",
              "    <tr>\n",
              "      <th>Homocysteine Level</th>\n",
              "      <td>20</td>\n",
              "    </tr>\n",
              "    <tr>\n",
              "      <th>Heart Disease Status</th>\n",
              "      <td>0</td>\n",
              "    </tr>\n",
              "  </tbody>\n",
              "</table>\n",
              "</div><br><label><b>dtype:</b> int64</label>"
            ]
          },
          "metadata": {},
          "execution_count": 14
        }
      ]
    },
    {
      "cell_type": "markdown",
      "source": [
        "#Handeling null Values"
      ],
      "metadata": {
        "id": "LYw5XqvKda-D"
      }
    },
    {
      "cell_type": "code",
      "source": [
        "for col in df.columns:\n",
        "    if df[col].dtype == 'object':\n",
        "        df[col].fillna(df[col].mode()[0], inplace=True)\n",
        "    else:\n",
        "        df[col].fillna(df[col].mean(), inplace=True)"
      ],
      "metadata": {
        "id": "H9yiQUZXdBxk"
      },
      "execution_count": 15,
      "outputs": []
    },
    {
      "cell_type": "code",
      "source": [
        "le = LabelEncoder()\n",
        "for col in df.select_dtypes(include='object'):\n",
        "    df[col] = le.fit_transform(df[col])"
      ],
      "metadata": {
        "id": "kGbHInfpdB0c"
      },
      "execution_count": 16,
      "outputs": []
    },
    {
      "cell_type": "markdown",
      "source": [
        "#Split dataset"
      ],
      "metadata": {
        "id": "RhJ3w5thd2a2"
      }
    },
    {
      "cell_type": "code",
      "source": [
        "X = df.drop('Heart Disease Status', axis=1)\n",
        "y = df['Heart Disease Status']\n",
        "\n",
        "X_train, X_test, y_train, y_test = train_test_split(X, y, test_size=0.2, random_state=42)"
      ],
      "metadata": {
        "id": "mzKFv8R0dB4h"
      },
      "execution_count": 17,
      "outputs": []
    },
    {
      "cell_type": "markdown",
      "source": [
        "#Normalize features"
      ],
      "metadata": {
        "id": "eowGwJxhd-RZ"
      }
    },
    {
      "cell_type": "code",
      "source": [
        "scaler = StandardScaler()\n",
        "X_train = scaler.fit_transform(X_train)\n",
        "X_test = scaler.transform(X_test)"
      ],
      "metadata": {
        "id": "8rDFcUQcdB88"
      },
      "execution_count": 18,
      "outputs": []
    },
    {
      "cell_type": "markdown",
      "source": [
        "#Logistic Regression"
      ],
      "metadata": {
        "id": "VSWdIl-8e5bo"
      }
    },
    {
      "cell_type": "code",
      "source": [
        "from sklearn.linear_model import LogisticRegression\n",
        "\n",
        "# Initialize and train the Logistic Regression model\n",
        "model = LogisticRegression(random_state=42)\n",
        "model.fit(X_train, y_train)\n",
        "\n",
        "# Make predictions\n",
        "y_pred = model.predict(X_test)\n",
        "\n",
        "# Evaluate the model\n",
        "accuracy = accuracy_score(y_test, y_pred)\n",
        "report = classification_report(y_test, y_pred)\n",
        "conf_matrix = confusion_matrix(y_test, y_pred)\n",
        "\n",
        "print(f\"Accuracy: {accuracy}\")\n",
        "print(\"Classification Report:\\n\", report)\n",
        "print(\"Confusion Matrix:\\n\", conf_matrix)"
      ],
      "metadata": {
        "colab": {
          "base_uri": "https://localhost:8080/"
        },
        "id": "CvC48qn4dB_u",
        "outputId": "844e7862-b667-4735-ea94-6c9582620f26"
      },
      "execution_count": 19,
      "outputs": [
        {
          "output_type": "stream",
          "name": "stdout",
          "text": [
            "Accuracy: 0.8065\n",
            "Classification Report:\n",
            "               precision    recall  f1-score   support\n",
            "\n",
            "           0       0.81      1.00      0.89      1613\n",
            "           1       0.00      0.00      0.00       387\n",
            "\n",
            "    accuracy                           0.81      2000\n",
            "   macro avg       0.40      0.50      0.45      2000\n",
            "weighted avg       0.65      0.81      0.72      2000\n",
            "\n",
            "Confusion Matrix:\n",
            " [[1613    0]\n",
            " [ 387    0]]\n"
          ]
        }
      ]
    },
    {
      "cell_type": "markdown",
      "source": [
        "#Naive Bayes"
      ],
      "metadata": {
        "id": "yJX80qTZfAyR"
      }
    },
    {
      "cell_type": "code",
      "source": [
        "from sklearn.naive_bayes import GaussianNB\n",
        "\n",
        "# Initialize and train the Naive Bayes model\n",
        "model_nb = GaussianNB()\n",
        "model_nb.fit(X_train, y_train)\n",
        "\n",
        "# Make predictions\n",
        "y_pred_nb = model_nb.predict(X_test)\n",
        "\n",
        "# Evaluate the model\n",
        "accuracy_nb = accuracy_score(y_test, y_pred_nb)\n",
        "report_nb = classification_report(y_test, y_pred_nb)\n",
        "conf_matrix_nb = confusion_matrix(y_test, y_pred_nb)\n",
        "\n",
        "print(f\"Accuracy (Naive Bayes): {accuracy_nb}\")\n",
        "print(\"Classification Report (Naive Bayes):\\n\", report_nb)\n",
        "print(\"Confusion Matrix (Naive Bayes):\\n\", conf_matrix_nb)"
      ],
      "metadata": {
        "colab": {
          "base_uri": "https://localhost:8080/"
        },
        "id": "yq70ZYfhdCE-",
        "outputId": "ec8bdb24-f506-4694-82c4-b1b62d5947aa"
      },
      "execution_count": 20,
      "outputs": [
        {
          "output_type": "stream",
          "name": "stdout",
          "text": [
            "Accuracy (Naive Bayes): 0.8065\n",
            "Classification Report (Naive Bayes):\n",
            "               precision    recall  f1-score   support\n",
            "\n",
            "           0       0.81      1.00      0.89      1613\n",
            "           1       0.00      0.00      0.00       387\n",
            "\n",
            "    accuracy                           0.81      2000\n",
            "   macro avg       0.40      0.50      0.45      2000\n",
            "weighted avg       0.65      0.81      0.72      2000\n",
            "\n",
            "Confusion Matrix (Naive Bayes):\n",
            " [[1613    0]\n",
            " [ 387    0]]\n"
          ]
        }
      ]
    },
    {
      "cell_type": "markdown",
      "source": [
        "#Support Vector Machine"
      ],
      "metadata": {
        "id": "yfQQ3UXWfEPJ"
      }
    },
    {
      "cell_type": "code",
      "source": [
        "from sklearn.svm import SVC\n",
        "\n",
        "# Initialize and train the Support Vector Machine model\n",
        "model_svm = SVC(random_state=42)\n",
        "model_svm.fit(X_train, y_train)\n",
        "\n",
        "# Make predictions\n",
        "y_pred_svm = model_svm.predict(X_test)\n",
        "\n",
        "# Evaluate the model\n",
        "accuracy_svm = accuracy_score(y_test, y_pred_svm)\n",
        "report_svm = classification_report(y_test, y_pred_svm)\n",
        "conf_matrix_svm = confusion_matrix(y_test, y_pred_svm)\n",
        "\n",
        "print(f\"Accuracy (SVM): {accuracy_svm}\")\n",
        "print(\"Classification Report (SVM):\\n\", report_svm)\n",
        "print(\"Confusion Matrix (SVM):\\n\", conf_matrix_svm)"
      ],
      "metadata": {
        "colab": {
          "base_uri": "https://localhost:8080/"
        },
        "id": "lCE2d9wjbU2S",
        "outputId": "3e677464-deb1-41ae-fcfd-dfa41464bcc1"
      },
      "execution_count": 21,
      "outputs": [
        {
          "output_type": "stream",
          "name": "stdout",
          "text": [
            "Accuracy (SVM): 0.8065\n",
            "Classification Report (SVM):\n",
            "               precision    recall  f1-score   support\n",
            "\n",
            "           0       0.81      1.00      0.89      1613\n",
            "           1       0.00      0.00      0.00       387\n",
            "\n",
            "    accuracy                           0.81      2000\n",
            "   macro avg       0.40      0.50      0.45      2000\n",
            "weighted avg       0.65      0.81      0.72      2000\n",
            "\n",
            "Confusion Matrix (SVM):\n",
            " [[1613    0]\n",
            " [ 387    0]]\n"
          ]
        }
      ]
    },
    {
      "cell_type": "markdown",
      "source": [
        "#K-Nearest Neighbors\n",
        "\n"
      ],
      "metadata": {
        "id": "2jRUVLKgfIag"
      }
    },
    {
      "cell_type": "code",
      "source": [
        "from sklearn.neighbors import KNeighborsClassifier\n",
        "\n",
        "# Initialize and train the K-Nearest Neighbors model\n",
        "# You might want to experiment with different values for n_neighbors\n",
        "model_knn = KNeighborsClassifier(n_neighbors=5)\n",
        "model_knn.fit(X_train, y_train)\n",
        "\n",
        "# Make predictions\n",
        "y_pred_knn = model_knn.predict(X_test)\n",
        "\n",
        "# Evaluate the model\n",
        "accuracy_knn = accuracy_score(y_test, y_pred_knn)\n",
        "report_knn = classification_report(y_test, y_pred_knn)\n",
        "conf_matrix_knn = confusion_matrix(y_test, y_pred_knn)\n",
        "\n",
        "print(f\"Accuracy (KNN): {accuracy_knn}\")\n",
        "print(\"Classification Report (KNN):\\n\", report_knn)\n",
        "print(\"Confusion Matrix (KNN):\\n\", conf_matrix_knn)"
      ],
      "metadata": {
        "colab": {
          "base_uri": "https://localhost:8080/"
        },
        "id": "A75QBHQGbU5E",
        "outputId": "ed1fac58-7466-4d20-cec7-612452e9a1b1"
      },
      "execution_count": 22,
      "outputs": [
        {
          "output_type": "stream",
          "name": "stdout",
          "text": [
            "Accuracy (KNN): 0.7685\n",
            "Classification Report (KNN):\n",
            "               precision    recall  f1-score   support\n",
            "\n",
            "           0       0.81      0.94      0.87      1613\n",
            "           1       0.17      0.05      0.08       387\n",
            "\n",
            "    accuracy                           0.77      2000\n",
            "   macro avg       0.49      0.50      0.47      2000\n",
            "weighted avg       0.68      0.77      0.72      2000\n",
            "\n",
            "Confusion Matrix (KNN):\n",
            " [[1517   96]\n",
            " [ 367   20]]\n"
          ]
        }
      ]
    },
    {
      "cell_type": "markdown",
      "source": [
        "# Decision Tree"
      ],
      "metadata": {
        "id": "liSTsohdfNS8"
      }
    },
    {
      "cell_type": "code",
      "source": [
        "from sklearn.tree import DecisionTreeClassifier\n",
        "\n",
        "# Initialize and train the Decision Tree model\n",
        "model_dt = DecisionTreeClassifier(random_state=42)\n",
        "model_dt.fit(X_train, y_train)\n",
        "\n",
        "# Make predictions\n",
        "y_pred_dt = model_dt.predict(X_test)\n",
        "\n",
        "# Evaluate the model\n",
        "accuracy_dt = accuracy_score(y_test, y_pred_dt)\n",
        "report_dt = classification_report(y_test, y_pred_dt)\n",
        "conf_matrix_dt = confusion_matrix(y_test, y_pred_dt)\n",
        "\n",
        "print(f\"Accuracy (Decision Tree): {accuracy_dt}\")\n",
        "print(\"Classification Report (Decision Tree):\\n\", report_dt)\n",
        "print(\"Confusion Matrix (Decision Tree):\\n\", conf_matrix_dt)"
      ],
      "metadata": {
        "colab": {
          "base_uri": "https://localhost:8080/"
        },
        "id": "BfHQ2qgrbU79",
        "outputId": "9829cd51-95a8-41a3-ce19-5b1b2ec3325b"
      },
      "execution_count": 23,
      "outputs": [
        {
          "output_type": "stream",
          "name": "stdout",
          "text": [
            "Accuracy (Decision Tree): 0.6645\n",
            "Classification Report (Decision Tree):\n",
            "               precision    recall  f1-score   support\n",
            "\n",
            "           0       0.81      0.77      0.79      1613\n",
            "           1       0.20      0.24      0.21       387\n",
            "\n",
            "    accuracy                           0.66      2000\n",
            "   macro avg       0.50      0.50      0.50      2000\n",
            "weighted avg       0.69      0.66      0.68      2000\n",
            "\n",
            "Confusion Matrix (Decision Tree):\n",
            " [[1238  375]\n",
            " [ 296   91]]\n"
          ]
        }
      ]
    },
    {
      "cell_type": "markdown",
      "source": [
        "#Random Forest"
      ],
      "metadata": {
        "id": "uxGqY8HZfV3Q"
      }
    },
    {
      "cell_type": "code",
      "source": [
        "from sklearn.ensemble import RandomForestClassifier\n",
        "\n",
        "# Initialize and train the Random Forest model\n",
        "model_rf = RandomForestClassifier(random_state=42)\n",
        "model_rf.fit(X_train, y_train)\n",
        "\n",
        "# Make predictions\n",
        "y_pred_rf = model_rf.predict(X_test)\n",
        "\n",
        "# Evaluate the model\n",
        "accuracy_rf = accuracy_score(y_test, y_pred_rf)\n",
        "report_rf = classification_report(y_test, y_pred_rf)\n",
        "conf_matrix_rf = confusion_matrix(y_test, y_pred_rf)\n",
        "\n",
        "print(f\"Accuracy (Random Forest): {accuracy_rf}\")\n",
        "print(\"Classification Report (Random Forest):\\n\", report_rf)\n",
        "print(\"Confusion Matrix (Random Forest):\\n\", conf_matrix_rf)"
      ],
      "metadata": {
        "colab": {
          "base_uri": "https://localhost:8080/"
        },
        "id": "nYj0yEDAbU_A",
        "outputId": "f09a4135-3874-4168-91da-9c4a0533e8fe"
      },
      "execution_count": 24,
      "outputs": [
        {
          "output_type": "stream",
          "name": "stdout",
          "text": [
            "Accuracy (Random Forest): 0.8065\n",
            "Classification Report (Random Forest):\n",
            "               precision    recall  f1-score   support\n",
            "\n",
            "           0       0.81      1.00      0.89      1613\n",
            "           1       0.00      0.00      0.00       387\n",
            "\n",
            "    accuracy                           0.81      2000\n",
            "   macro avg       0.40      0.50      0.45      2000\n",
            "weighted avg       0.65      0.81      0.72      2000\n",
            "\n",
            "Confusion Matrix (Random Forest):\n",
            " [[1613    0]\n",
            " [ 387    0]]\n"
          ]
        }
      ]
    },
    {
      "cell_type": "markdown",
      "source": [
        "#Gradient Boosting"
      ],
      "metadata": {
        "id": "IzcvCHCnfjUP"
      }
    },
    {
      "cell_type": "code",
      "source": [
        "from sklearn.ensemble import GradientBoostingClassifier\n",
        "\n",
        "# Initialize and train the Gradient Boosting model\n",
        "model_gb = GradientBoostingClassifier(random_state=42)\n",
        "model_gb.fit(X_train, y_train)\n",
        "\n",
        "# Make predictions\n",
        "y_pred_gb = model_gb.predict(X_test)\n",
        "\n",
        "# Evaluate the model\n",
        "accuracy_gb = accuracy_score(y_test, y_pred_gb)\n",
        "report_gb = classification_report(y_test, y_pred_gb)\n",
        "conf_matrix_gb = confusion_matrix(y_test, y_pred_gb)\n",
        "\n",
        "print(f\"Accuracy (Gradient Boosting): {accuracy_gb}\")\n",
        "print(\"Classification Report (Gradient Boosting):\\n\", report_gb)\n",
        "print(\"Confusion Matrix (Gradient Boosting):\\n\", conf_matrix_gb)"
      ],
      "metadata": {
        "colab": {
          "base_uri": "https://localhost:8080/"
        },
        "id": "EWdnxRYUbVC8",
        "outputId": "6948d492-3e0c-4c56-b5f3-00931ba94f87"
      },
      "execution_count": 25,
      "outputs": [
        {
          "output_type": "stream",
          "name": "stdout",
          "text": [
            "Accuracy (Gradient Boosting): 0.807\n",
            "Classification Report (Gradient Boosting):\n",
            "               precision    recall  f1-score   support\n",
            "\n",
            "           0       0.81      1.00      0.89      1613\n",
            "           1       1.00      0.00      0.01       387\n",
            "\n",
            "    accuracy                           0.81      2000\n",
            "   macro avg       0.90      0.50      0.45      2000\n",
            "weighted avg       0.84      0.81      0.72      2000\n",
            "\n",
            "Confusion Matrix (Gradient Boosting):\n",
            " [[1613    0]\n",
            " [ 386    1]]\n"
          ]
        }
      ]
    },
    {
      "cell_type": "code",
      "source": [],
      "metadata": {
        "id": "LpRN_STPbVGS"
      },
      "execution_count": null,
      "outputs": []
    },
    {
      "cell_type": "code",
      "source": [],
      "metadata": {
        "id": "2oK6ZqR4bVIr"
      },
      "execution_count": null,
      "outputs": []
    },
    {
      "cell_type": "code",
      "source": [],
      "metadata": {
        "id": "wZyTBxuubVLI"
      },
      "execution_count": null,
      "outputs": []
    }
  ]
}